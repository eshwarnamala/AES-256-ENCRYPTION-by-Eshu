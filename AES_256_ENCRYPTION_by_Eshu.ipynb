{
  "nbformat": 4,
  "nbformat_minor": 0,
  "metadata": {
    "colab": {
      "name": "AES-256-ENCRYPTION-by-Eshu.ipynb",
      "provenance": []
    },
    "kernelspec": {
      "name": "python3",
      "display_name": "Python 3"
    },
    "language_info": {
      "name": "python"
    }
  },
  "cells": [
    {
      "cell_type": "code",
      "source": [
        "''' \n",
        " Usage:  \n",
        " python aes.py <encrypt/decrypt> <message/cipher> <key> <keytype>  \n",
        "''' \n",
        "  \n",
        "''' \n",
        " first install the requirements using pip \n",
        " e.g. pip install pycryptodome... \n",
        " you can install all the requirements as well... \n",
        "''' \n",
        "#Lets's get started..\n",
        "import base64\n",
        "from Crypto.Cipher import AES\n",
        "from Crypto.Hash import SHA256\n",
        "from Crypto import Random"
      ],
      "metadata": {
        "id": "1iQIMRX7YVIR"
      },
      "execution_count": 2,
      "outputs": []
    },
    {
      "cell_type": "code",
      "source": [
        "def encrypt(key, source, encode=True, keyType='hex'):\n",
        "  '''\n",
        "    key - The key to encrypt the message.\n",
        "    encode - To encode the output in base64. Default is true\n",
        "    keyType - Specify the type of key passed\n",
        "\n",
        "    Returns:\n",
        "    Base64 encoded cipher\n",
        "\n",
        "    '''\n",
        "  source = source.encode()\n",
        "  if keyType == \"hex\":\n",
        "        # Convert key (in hex representation) to bytes\n",
        "        key = bytes(bytearray.fromhex(key))\n",
        "  else:\n",
        "        # SHA-256 over our key to get a proper-sized AES key.\n",
        "        key = key.encode()\n",
        "        key = SHA256.new(key).digest()\n",
        "\n",
        "  IV = Random.new().read(AES.block_size)  # IV generation\n",
        "  encryptor = AES.new(key, AES.MODE_CBC, IV)\n",
        "  padding = AES.block_size - len(source) % AES.block_size  # calculate required padding to encrypt\n",
        "  source += bytes([padding]) * padding\n",
        "  data = IV + encryptor.encrypt(source)  # store the IV at the beginning and encrypt\n",
        "  return base64.b64encode(data).decode() if encode else data"
      ],
      "metadata": {
        "id": "a50sECdaY1tl"
      },
      "execution_count": 3,
      "outputs": []
    },
    {
      "cell_type": "code",
      "source": [
        "def decrypt(key, source, decode=True, keyType=\"hex\"):\n",
        "  \n",
        "    source = source.encode()\n",
        "    if decode:\n",
        "        source = base64.b64decode(source)\n",
        "\n",
        "    if keyType == \"hex\":\n",
        "        # Convert key to bytes\n",
        "        key = bytes(bytearray.fromhex(key))\n",
        "    else:\n",
        "\n",
        "        key = key.encode()\n",
        "        key = SHA256.new(key).digest()\n",
        "\n",
        "    IV = source[:AES.block_size]  # extract the IV from the beginning\n",
        "    decryptor = AES.new(key, AES.MODE_CBC, IV)\n",
        "    data = decryptor.decrypt(source[AES.block_size:])\n",
        "    padding = data[-1]  # pick the padding value from the end\n",
        "    if data[-padding:] != bytes([padding]) * padding:\n",
        "        raise ValueError(\"Padding Error!!!...\")\n",
        "    return data[:-padding]  # remove the padding"
      ],
      "metadata": {
        "id": "TCfPsFBZY6gF"
      },
      "execution_count": 4,
      "outputs": []
    },
    {
      "cell_type": "code",
      "source": [
        "# pass a message and a key(which is 'hex' representation) to encrypt\n",
        "message = \"Hi Hello, this is Eshwar Namala. Presenting you my first github repository,which is about AES 256 Encryption. Follow for more like this!!!....\"\n",
        "key = \"98076ffea203325acdeefa200964acd8da6fd5aaffea902616745effac62d789\"  # 64 bit hex key(!!ensure to give proper key)"
      ],
      "metadata": {
        "id": "pj0GYmXuZAHk"
      },
      "execution_count": 5,
      "outputs": []
    },
    {
      "cell_type": "code",
      "source": [
        "# encrypt now.....\n",
        "encrypted = encrypt(key=key, source=message)"
      ],
      "metadata": {
        "id": "DPT3cLRnZCgv"
      },
      "execution_count": 6,
      "outputs": []
    },
    {
      "cell_type": "code",
      "source": [
        "# to decrypt\n",
        "decrypted = decrypt(key=key, source=encrypted)"
      ],
      "metadata": {
        "id": "WaqRDCGsZEgf"
      },
      "execution_count": 7,
      "outputs": []
    },
    {
      "cell_type": "code",
      "source": [
        "# now to print the encrypted message \n",
        "print(encrypted)"
      ],
      "metadata": {
        "colab": {
          "base_uri": "https://localhost:8080/"
        },
        "id": "rvl_lrKrZEc0",
        "outputId": "fe2fc8b2-a06c-4c1b-f9ef-c788aa205fcb"
      },
      "execution_count": 8,
      "outputs": [
        {
          "output_type": "stream",
          "name": "stdout",
          "text": [
            "/eFJ1bBYxlnH26M/EPp0s5ShY/xV9jLZ96aaHsg6tHI/bRj3VI/u1DdSU3yb6QprGMZ6O8mf6q7are2x2aMdYMqBiVP2Afh32Tf2Cn2b+u/Z6Ro6m48W6sI3fYbA5ST+L+XeAh8+aqPhw687JCXmuuiqoO5SzHJHtt6+9uTtmujwVSYGw07RWzkuaBnybXRrGPgbbcwWpX6rRlc0C8dXDg==\n"
          ]
        }
      ]
    },
    {
      "cell_type": "code",
      "source": [
        "# now decrypt the encrypted message to print the actual message  \n",
        "print(decrypted)"
      ],
      "metadata": {
        "colab": {
          "base_uri": "https://localhost:8080/"
        },
        "id": "uznVMGA7Ze6J",
        "outputId": "a71b5038-d974-43fb-f123-a1b575e15ade"
      },
      "execution_count": 9,
      "outputs": [
        {
          "output_type": "stream",
          "name": "stdout",
          "text": [
            "b'Hi Hello, this is Eshwar Namala. Presenting you my first github repository,which is about AES 256 Encryption. Follow for more like this!!!....'\n"
          ]
        }
      ]
    }
  ]
}